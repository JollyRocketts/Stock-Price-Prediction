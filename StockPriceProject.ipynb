{
  "nbformat": 4,
  "nbformat_minor": 0,
  "metadata": {
    "colab": {
      "provenance": [],
      "authorship_tag": "ABX9TyN2MvTm6BiMZhqArGbbEU4E",
      "include_colab_link": true
    },
    "kernelspec": {
      "name": "python3",
      "display_name": "Python 3"
    },
    "language_info": {
      "name": "python"
    }
  },
  "cells": [
    {
      "cell_type": "markdown",
      "metadata": {
        "id": "view-in-github",
        "colab_type": "text"
      },
      "source": [
        "<a href=\"https://colab.research.google.com/github/JollyRocketts/Stock-Price-Prediction/blob/main/StockPriceProject.ipynb\" target=\"_parent\"><img src=\"https://colab.research.google.com/assets/colab-badge.svg\" alt=\"Open In Colab\"/></a>"
      ]
    },
    {
      "cell_type": "code",
      "execution_count": null,
      "metadata": {
        "id": "30SSDpI32edW"
      },
      "outputs": [],
      "source": [
        "import warnings\n",
        "warnings.filterwarnings(\"ignore\")\n",
        "\n",
        "import pandas as pd\n",
        "import matplotlib.pyplot as plt\n",
        "from pylab import rcParams\n",
        "import numpy as np\n",
        "import seaborn as sns\n",
        "import os\n",
        "from sklearn.model_selection import cross_val_score, train_test_split, GridSearchCV\n",
        "from sklearn.metrics import mean_squared_error, mean_absolute_error, r2_score\n",
        "from sklearn.preprocessing import StandardScaler\n",
        "from sklearn.feature_selection import RFECV, SelectFromModel, SelectKBest\n",
        "from sklearn.ensemble import RandomForestRegressor\n",
        "from sklearn import metrics\n",
        "%matplotlib inline\n",
        "\n",
        "data_raw= pd.read_csv(\"stocks.csv\", index_col=\"Date\")"
      ]
    },
    {
      "cell_type": "code",
      "source": [
        "def generate_features(df):\n",
        "    df_new=pd.DataFrame()\n",
        "    df_new['open']=df['Open']\n",
        "    df_new['open_1']=df['Open'].shift(1)\n",
        "    df_new['close_1']=df['Close'].shift(1)\n",
        "    df_new['high_1']=df['High'].shift(1)\n",
        "    df_new['low_1']=df['Low'].shift(1)\n",
        "    df_new['volume_1']=df['Volume'].shift(1)\n",
        "    # average price\n",
        "    df_new['avg_price_5']= df['Close'].rolling(5).mean().shift(1)\n",
        "    df_new['avg_price_30']= df['Close'].rolling(21).mean().shift(1)\n",
        "    df_new['avg_price_365']= df['Close'].rolling(252).mean().shift(1)\n",
        "    df_new['ratio_avg_price_5_30']= df_new['avg_price_5']/df_new['avg_price_30']\n",
        "    df_new['ratio_avg_price_5_365']= df_new['avg_price_5']/df_new['avg_price_365']\n",
        "    df_new['ratio_avg_price_30_365']= df_new['avg_price_30']/df_new['avg_price_365']\n",
        "    # average volume\n",
        "    df_new['avg_volume_5']= df['Volume'].rolling(5).mean().shift(1)\n",
        "    df_new['avg_volume_30']= df['Volume'].rolling(21).mean().shift(1)\n",
        "    df_new['avg_volume_365']= df['Volume'].rolling(252).mean().shift(1)\n",
        "    df_new['ratio_avg_volume_5_30']= df_new['avg_volume_5']/df_new['avg_volume_30']\n",
        "    df_new['ratio_avg_volume_5_365']= df_new['avg_volume_5']/df_new['avg_volume_365']\n",
        "    df_new['ratio_avg_volume30_365']= df_new['avg_volume_30']/df_new['avg_volume_365']\n",
        "    #standard deviation of prices\n",
        "    df_new['std_price_5']= df['Close'].rolling(5).std().shift(1)\n",
        "    df_new['std_price_30']= df['Close'].rolling(21).std().shift(1)\n",
        "    df_new['std_price_365']= df['Close'].rolling(252).std().shift(1)\n",
        "    df_new['ratio_std_price_5_30']= df_new['std_price_5']/df_new['std_price_30']\n",
        "    df_new['ratio_std_price_5_365']= df_new['std_price_5']/df_new['std_price_365']\n",
        "    df_new['ratio_std_price_30_365']= df_new['std_price_30']/df_new['std_price_365']\n",
        "    # standard deviation of volume\n",
        "    df_new['std_volume_5']= df['Volume'].rolling(5).std().shift(1)\n",
        "    df_new['std_volume_30']= df['Volume'].rolling(21).std().shift(1)\n",
        "    df_new['std_volume_365']= df['Volume'].rolling(252).std().shift(1)\n",
        "    df_new['ratio_std_volume_5_30']= df_new['std_volume_5']/df_new['std_volume_30']\n",
        "    df_new['ratio_std_volume_5_365']= df_new['std_volume_5']/df_new['std_volume_365']\n",
        "    df_new['ratio_std_volume_30_365']= df_new['std_volume_30']/df_new['std_volume_365']\n",
        "    # the target\n",
        "    df_new['close']=df['Close']\n",
        "    df_new=df_new.dropna(axis=0)\n",
        "    return df_new\n",
        "\n",
        "data= generate_features(data_raw)"
      ],
      "metadata": {
        "id": "jGDr44eFk77K"
      },
      "execution_count": null,
      "outputs": []
    },
    {
      "cell_type": "code",
      "source": [
        "start_train= \"1988-01-01\"\n",
        "end_train=\"2015-12-31\"\n",
        "\n",
        "start_test=\"2016-01-01\"\n",
        "end_test=\"2016-12-31\"\n",
        "\n",
        "data_train=data[start_train:end_train]\n",
        "\n",
        "X_train= data_train.drop('close',axis=1).values\n",
        "y_train= data_train['close'].values\n",
        "\n",
        "data_test= data[start_test:end_test]\n",
        "\n",
        "X_test= data_test.drop('close',axis=1).values\n",
        "y_test= data_test['close'].values"
      ],
      "metadata": {
        "id": "bI6tDMdglCRT"
      },
      "execution_count": null,
      "outputs": []
    },
    {
      "cell_type": "code",
      "source": [
        "scaler=StandardScaler()\n",
        "\n",
        "X_scaled_train= scaler.fit_transform(X_train)\n",
        "X_scaled_test=scaler.transform(X_test)\n",
        "\n",
        "param_grid={\n",
        "    \"alpha\":[1e-5,3e-5,1e-4],\n",
        "    \"eta0\":[0.01,0.03,0.1]\n",
        "}\n",
        "\n",
        "from sklearn.linear_model import SGDRegressor\n",
        "\n",
        "lr=SGDRegressor(penalty=\"l2\", max_iter=100)\n",
        "grid_search= GridSearchCV(lr, param_grid, cv=5, scoring=\"r2\")\n",
        "grid_search.fit(X_scaled_train, y_train)"
      ],
      "metadata": {
        "id": "HKCZST9plOAR"
      },
      "execution_count": null,
      "outputs": []
    },
    {
      "cell_type": "code",
      "source": [
        "lr_best= grid_search.best_estimator_\n",
        "\n",
        "predictions_lr= lr_best.predict(X_scaled_test)"
      ],
      "metadata": {
        "id": "HQ88tc6IlOw7"
      },
      "execution_count": null,
      "outputs": []
    },
    {
      "cell_type": "code",
      "source": [
        "data_raw.head()"
      ],
      "metadata": {
        "colab": {
          "base_uri": "https://localhost:8080/",
          "height": 238
        },
        "id": "banUrbH7llxX",
        "outputId": "fbb2cb92-be14-459e-e64c-810a6697e87f"
      },
      "execution_count": null,
      "outputs": [
        {
          "output_type": "execute_result",
          "data": {
            "text/plain": [
              "                   Open         High          Low        Close    Adj Close  \\\n",
              "Date                                                                          \n",
              "1988-01-04  1952.589966  2030.010010  1950.760010  2015.250000  2015.250000   \n",
              "1988-01-05  2056.370117  2075.270020  2021.390015  2031.500000  2031.500000   \n",
              "1988-01-06  2036.469971  2058.189941  2012.770020  2037.800049  2037.800049   \n",
              "1988-01-07  2019.890015  2061.510010  2004.640015  2051.889893  2051.889893   \n",
              "1988-01-08  2046.579956  2058.689941  1898.040039  1911.310059  1911.310059   \n",
              "\n",
              "              Volume  \n",
              "Date                  \n",
              "1988-01-04  20880000  \n",
              "1988-01-05  27200000  \n",
              "1988-01-06  18800000  \n",
              "1988-01-07  21370000  \n",
              "1988-01-08  27440000  "
            ],
            "text/html": [
              "\n",
              "  <div id=\"df-18d20158-8e43-4766-8510-43a1679bb104\">\n",
              "    <div class=\"colab-df-container\">\n",
              "      <div>\n",
              "<style scoped>\n",
              "    .dataframe tbody tr th:only-of-type {\n",
              "        vertical-align: middle;\n",
              "    }\n",
              "\n",
              "    .dataframe tbody tr th {\n",
              "        vertical-align: top;\n",
              "    }\n",
              "\n",
              "    .dataframe thead th {\n",
              "        text-align: right;\n",
              "    }\n",
              "</style>\n",
              "<table border=\"1\" class=\"dataframe\">\n",
              "  <thead>\n",
              "    <tr style=\"text-align: right;\">\n",
              "      <th></th>\n",
              "      <th>Open</th>\n",
              "      <th>High</th>\n",
              "      <th>Low</th>\n",
              "      <th>Close</th>\n",
              "      <th>Adj Close</th>\n",
              "      <th>Volume</th>\n",
              "    </tr>\n",
              "    <tr>\n",
              "      <th>Date</th>\n",
              "      <th></th>\n",
              "      <th></th>\n",
              "      <th></th>\n",
              "      <th></th>\n",
              "      <th></th>\n",
              "      <th></th>\n",
              "    </tr>\n",
              "  </thead>\n",
              "  <tbody>\n",
              "    <tr>\n",
              "      <th>1988-01-04</th>\n",
              "      <td>1952.589966</td>\n",
              "      <td>2030.010010</td>\n",
              "      <td>1950.760010</td>\n",
              "      <td>2015.250000</td>\n",
              "      <td>2015.250000</td>\n",
              "      <td>20880000</td>\n",
              "    </tr>\n",
              "    <tr>\n",
              "      <th>1988-01-05</th>\n",
              "      <td>2056.370117</td>\n",
              "      <td>2075.270020</td>\n",
              "      <td>2021.390015</td>\n",
              "      <td>2031.500000</td>\n",
              "      <td>2031.500000</td>\n",
              "      <td>27200000</td>\n",
              "    </tr>\n",
              "    <tr>\n",
              "      <th>1988-01-06</th>\n",
              "      <td>2036.469971</td>\n",
              "      <td>2058.189941</td>\n",
              "      <td>2012.770020</td>\n",
              "      <td>2037.800049</td>\n",
              "      <td>2037.800049</td>\n",
              "      <td>18800000</td>\n",
              "    </tr>\n",
              "    <tr>\n",
              "      <th>1988-01-07</th>\n",
              "      <td>2019.890015</td>\n",
              "      <td>2061.510010</td>\n",
              "      <td>2004.640015</td>\n",
              "      <td>2051.889893</td>\n",
              "      <td>2051.889893</td>\n",
              "      <td>21370000</td>\n",
              "    </tr>\n",
              "    <tr>\n",
              "      <th>1988-01-08</th>\n",
              "      <td>2046.579956</td>\n",
              "      <td>2058.689941</td>\n",
              "      <td>1898.040039</td>\n",
              "      <td>1911.310059</td>\n",
              "      <td>1911.310059</td>\n",
              "      <td>27440000</td>\n",
              "    </tr>\n",
              "  </tbody>\n",
              "</table>\n",
              "</div>\n",
              "      <button class=\"colab-df-convert\" onclick=\"convertToInteractive('df-18d20158-8e43-4766-8510-43a1679bb104')\"\n",
              "              title=\"Convert this dataframe to an interactive table.\"\n",
              "              style=\"display:none;\">\n",
              "        \n",
              "  <svg xmlns=\"http://www.w3.org/2000/svg\" height=\"24px\"viewBox=\"0 0 24 24\"\n",
              "       width=\"24px\">\n",
              "    <path d=\"M0 0h24v24H0V0z\" fill=\"none\"/>\n",
              "    <path d=\"M18.56 5.44l.94 2.06.94-2.06 2.06-.94-2.06-.94-.94-2.06-.94 2.06-2.06.94zm-11 1L8.5 8.5l.94-2.06 2.06-.94-2.06-.94L8.5 2.5l-.94 2.06-2.06.94zm10 10l.94 2.06.94-2.06 2.06-.94-2.06-.94-.94-2.06-.94 2.06-2.06.94z\"/><path d=\"M17.41 7.96l-1.37-1.37c-.4-.4-.92-.59-1.43-.59-.52 0-1.04.2-1.43.59L10.3 9.45l-7.72 7.72c-.78.78-.78 2.05 0 2.83L4 21.41c.39.39.9.59 1.41.59.51 0 1.02-.2 1.41-.59l7.78-7.78 2.81-2.81c.8-.78.8-2.07 0-2.86zM5.41 20L4 18.59l7.72-7.72 1.47 1.35L5.41 20z\"/>\n",
              "  </svg>\n",
              "      </button>\n",
              "      \n",
              "  <style>\n",
              "    .colab-df-container {\n",
              "      display:flex;\n",
              "      flex-wrap:wrap;\n",
              "      gap: 12px;\n",
              "    }\n",
              "\n",
              "    .colab-df-convert {\n",
              "      background-color: #E8F0FE;\n",
              "      border: none;\n",
              "      border-radius: 50%;\n",
              "      cursor: pointer;\n",
              "      display: none;\n",
              "      fill: #1967D2;\n",
              "      height: 32px;\n",
              "      padding: 0 0 0 0;\n",
              "      width: 32px;\n",
              "    }\n",
              "\n",
              "    .colab-df-convert:hover {\n",
              "      background-color: #E2EBFA;\n",
              "      box-shadow: 0px 1px 2px rgba(60, 64, 67, 0.3), 0px 1px 3px 1px rgba(60, 64, 67, 0.15);\n",
              "      fill: #174EA6;\n",
              "    }\n",
              "\n",
              "    [theme=dark] .colab-df-convert {\n",
              "      background-color: #3B4455;\n",
              "      fill: #D2E3FC;\n",
              "    }\n",
              "\n",
              "    [theme=dark] .colab-df-convert:hover {\n",
              "      background-color: #434B5C;\n",
              "      box-shadow: 0px 1px 3px 1px rgba(0, 0, 0, 0.15);\n",
              "      filter: drop-shadow(0px 1px 2px rgba(0, 0, 0, 0.3));\n",
              "      fill: #FFFFFF;\n",
              "    }\n",
              "  </style>\n",
              "\n",
              "      <script>\n",
              "        const buttonEl =\n",
              "          document.querySelector('#df-18d20158-8e43-4766-8510-43a1679bb104 button.colab-df-convert');\n",
              "        buttonEl.style.display =\n",
              "          google.colab.kernel.accessAllowed ? 'block' : 'none';\n",
              "\n",
              "        async function convertToInteractive(key) {\n",
              "          const element = document.querySelector('#df-18d20158-8e43-4766-8510-43a1679bb104');\n",
              "          const dataTable =\n",
              "            await google.colab.kernel.invokeFunction('convertToInteractive',\n",
              "                                                     [key], {});\n",
              "          if (!dataTable) return;\n",
              "\n",
              "          const docLinkHtml = 'Like what you see? Visit the ' +\n",
              "            '<a target=\"_blank\" href=https://colab.research.google.com/notebooks/data_table.ipynb>data table notebook</a>'\n",
              "            + ' to learn more about interactive tables.';\n",
              "          element.innerHTML = '';\n",
              "          dataTable['output_type'] = 'display_data';\n",
              "          await google.colab.output.renderOutput(dataTable, element);\n",
              "          const docLink = document.createElement('div');\n",
              "          docLink.innerHTML = docLinkHtml;\n",
              "          element.appendChild(docLink);\n",
              "        }\n",
              "      </script>\n",
              "    </div>\n",
              "  </div>\n",
              "  "
            ]
          },
          "metadata": {},
          "execution_count": 11
        }
      ]
    },
    {
      "cell_type": "code",
      "source": [
        "data_raw.tail()\n"
      ],
      "metadata": {
        "colab": {
          "base_uri": "https://localhost:8080/",
          "height": 238
        },
        "id": "Sqtz04xVl8fK",
        "outputId": "29a18db9-b907-4069-bbe2-cadabfb94f70"
      },
      "execution_count": null,
      "outputs": [
        {
          "output_type": "execute_result",
          "data": {
            "text/plain": [
              "                    Open          High           Low         Close  \\\n",
              "Date                                                                 \n",
              "2016-12-23  19908.609375  19934.150391  19899.060547  19933.810547   \n",
              "2016-12-27  19943.460938  19980.240234  19939.800781  19945.039063   \n",
              "2016-12-28  19964.310547  19981.109375  19827.310547  19833.679688   \n",
              "2016-12-29  19835.460938  19878.439453  19788.939453  19819.779297   \n",
              "2016-12-30  19833.169922  19852.550781  19718.669922  19762.599609   \n",
              "\n",
              "               Adj Close     Volume  \n",
              "Date                                 \n",
              "2016-12-23  19933.810547  158260000  \n",
              "2016-12-27  19945.039063  158540000  \n",
              "2016-12-28  19833.679688  188350000  \n",
              "2016-12-29  19819.779297  172040000  \n",
              "2016-12-30  19762.599609  271910000  "
            ],
            "text/html": [
              "\n",
              "  <div id=\"df-d0498f31-f3ba-4484-bddc-7082387e3bb2\">\n",
              "    <div class=\"colab-df-container\">\n",
              "      <div>\n",
              "<style scoped>\n",
              "    .dataframe tbody tr th:only-of-type {\n",
              "        vertical-align: middle;\n",
              "    }\n",
              "\n",
              "    .dataframe tbody tr th {\n",
              "        vertical-align: top;\n",
              "    }\n",
              "\n",
              "    .dataframe thead th {\n",
              "        text-align: right;\n",
              "    }\n",
              "</style>\n",
              "<table border=\"1\" class=\"dataframe\">\n",
              "  <thead>\n",
              "    <tr style=\"text-align: right;\">\n",
              "      <th></th>\n",
              "      <th>Open</th>\n",
              "      <th>High</th>\n",
              "      <th>Low</th>\n",
              "      <th>Close</th>\n",
              "      <th>Adj Close</th>\n",
              "      <th>Volume</th>\n",
              "    </tr>\n",
              "    <tr>\n",
              "      <th>Date</th>\n",
              "      <th></th>\n",
              "      <th></th>\n",
              "      <th></th>\n",
              "      <th></th>\n",
              "      <th></th>\n",
              "      <th></th>\n",
              "    </tr>\n",
              "  </thead>\n",
              "  <tbody>\n",
              "    <tr>\n",
              "      <th>2016-12-23</th>\n",
              "      <td>19908.609375</td>\n",
              "      <td>19934.150391</td>\n",
              "      <td>19899.060547</td>\n",
              "      <td>19933.810547</td>\n",
              "      <td>19933.810547</td>\n",
              "      <td>158260000</td>\n",
              "    </tr>\n",
              "    <tr>\n",
              "      <th>2016-12-27</th>\n",
              "      <td>19943.460938</td>\n",
              "      <td>19980.240234</td>\n",
              "      <td>19939.800781</td>\n",
              "      <td>19945.039063</td>\n",
              "      <td>19945.039063</td>\n",
              "      <td>158540000</td>\n",
              "    </tr>\n",
              "    <tr>\n",
              "      <th>2016-12-28</th>\n",
              "      <td>19964.310547</td>\n",
              "      <td>19981.109375</td>\n",
              "      <td>19827.310547</td>\n",
              "      <td>19833.679688</td>\n",
              "      <td>19833.679688</td>\n",
              "      <td>188350000</td>\n",
              "    </tr>\n",
              "    <tr>\n",
              "      <th>2016-12-29</th>\n",
              "      <td>19835.460938</td>\n",
              "      <td>19878.439453</td>\n",
              "      <td>19788.939453</td>\n",
              "      <td>19819.779297</td>\n",
              "      <td>19819.779297</td>\n",
              "      <td>172040000</td>\n",
              "    </tr>\n",
              "    <tr>\n",
              "      <th>2016-12-30</th>\n",
              "      <td>19833.169922</td>\n",
              "      <td>19852.550781</td>\n",
              "      <td>19718.669922</td>\n",
              "      <td>19762.599609</td>\n",
              "      <td>19762.599609</td>\n",
              "      <td>271910000</td>\n",
              "    </tr>\n",
              "  </tbody>\n",
              "</table>\n",
              "</div>\n",
              "      <button class=\"colab-df-convert\" onclick=\"convertToInteractive('df-d0498f31-f3ba-4484-bddc-7082387e3bb2')\"\n",
              "              title=\"Convert this dataframe to an interactive table.\"\n",
              "              style=\"display:none;\">\n",
              "        \n",
              "  <svg xmlns=\"http://www.w3.org/2000/svg\" height=\"24px\"viewBox=\"0 0 24 24\"\n",
              "       width=\"24px\">\n",
              "    <path d=\"M0 0h24v24H0V0z\" fill=\"none\"/>\n",
              "    <path d=\"M18.56 5.44l.94 2.06.94-2.06 2.06-.94-2.06-.94-.94-2.06-.94 2.06-2.06.94zm-11 1L8.5 8.5l.94-2.06 2.06-.94-2.06-.94L8.5 2.5l-.94 2.06-2.06.94zm10 10l.94 2.06.94-2.06 2.06-.94-2.06-.94-.94-2.06-.94 2.06-2.06.94z\"/><path d=\"M17.41 7.96l-1.37-1.37c-.4-.4-.92-.59-1.43-.59-.52 0-1.04.2-1.43.59L10.3 9.45l-7.72 7.72c-.78.78-.78 2.05 0 2.83L4 21.41c.39.39.9.59 1.41.59.51 0 1.02-.2 1.41-.59l7.78-7.78 2.81-2.81c.8-.78.8-2.07 0-2.86zM5.41 20L4 18.59l7.72-7.72 1.47 1.35L5.41 20z\"/>\n",
              "  </svg>\n",
              "      </button>\n",
              "      \n",
              "  <style>\n",
              "    .colab-df-container {\n",
              "      display:flex;\n",
              "      flex-wrap:wrap;\n",
              "      gap: 12px;\n",
              "    }\n",
              "\n",
              "    .colab-df-convert {\n",
              "      background-color: #E8F0FE;\n",
              "      border: none;\n",
              "      border-radius: 50%;\n",
              "      cursor: pointer;\n",
              "      display: none;\n",
              "      fill: #1967D2;\n",
              "      height: 32px;\n",
              "      padding: 0 0 0 0;\n",
              "      width: 32px;\n",
              "    }\n",
              "\n",
              "    .colab-df-convert:hover {\n",
              "      background-color: #E2EBFA;\n",
              "      box-shadow: 0px 1px 2px rgba(60, 64, 67, 0.3), 0px 1px 3px 1px rgba(60, 64, 67, 0.15);\n",
              "      fill: #174EA6;\n",
              "    }\n",
              "\n",
              "    [theme=dark] .colab-df-convert {\n",
              "      background-color: #3B4455;\n",
              "      fill: #D2E3FC;\n",
              "    }\n",
              "\n",
              "    [theme=dark] .colab-df-convert:hover {\n",
              "      background-color: #434B5C;\n",
              "      box-shadow: 0px 1px 3px 1px rgba(0, 0, 0, 0.15);\n",
              "      filter: drop-shadow(0px 1px 2px rgba(0, 0, 0, 0.3));\n",
              "      fill: #FFFFFF;\n",
              "    }\n",
              "  </style>\n",
              "\n",
              "      <script>\n",
              "        const buttonEl =\n",
              "          document.querySelector('#df-d0498f31-f3ba-4484-bddc-7082387e3bb2 button.colab-df-convert');\n",
              "        buttonEl.style.display =\n",
              "          google.colab.kernel.accessAllowed ? 'block' : 'none';\n",
              "\n",
              "        async function convertToInteractive(key) {\n",
              "          const element = document.querySelector('#df-d0498f31-f3ba-4484-bddc-7082387e3bb2');\n",
              "          const dataTable =\n",
              "            await google.colab.kernel.invokeFunction('convertToInteractive',\n",
              "                                                     [key], {});\n",
              "          if (!dataTable) return;\n",
              "\n",
              "          const docLinkHtml = 'Like what you see? Visit the ' +\n",
              "            '<a target=\"_blank\" href=https://colab.research.google.com/notebooks/data_table.ipynb>data table notebook</a>'\n",
              "            + ' to learn more about interactive tables.';\n",
              "          element.innerHTML = '';\n",
              "          dataTable['output_type'] = 'display_data';\n",
              "          await google.colab.output.renderOutput(dataTable, element);\n",
              "          const docLink = document.createElement('div');\n",
              "          docLink.innerHTML = docLinkHtml;\n",
              "          element.appendChild(docLink);\n",
              "        }\n",
              "      </script>\n",
              "    </div>\n",
              "  </div>\n",
              "  "
            ]
          },
          "metadata": {},
          "execution_count": 13
        }
      ]
    },
    {
      "cell_type": "code",
      "source": [
        "print(\"Stock Price from \",data_raw.index[0],\" to \",data_raw.index[-1],\" :\")\n",
        "data_raw['Close'].plot(figsize=(10, 7))\n",
        "plt.title(\"Stock Price\", fontsize=17)\n",
        "plt.ylabel('Price', fontsize=14)\n",
        "plt.xlabel('Time', fontsize=14)\n",
        "plt.grid(which=\"major\", color='k', linestyle='-.', linewidth=0.5)\n",
        "plt.show()"
      ],
      "metadata": {
        "colab": {
          "base_uri": "https://localhost:8080/",
          "height": 483
        },
        "id": "Ed0QZ8RPmxK5",
        "outputId": "0a05f124-d614-4d9e-a6a7-7be5831c4d4c"
      },
      "execution_count": null,
      "outputs": [
        {
          "output_type": "stream",
          "name": "stdout",
          "text": [
            "Stock Price from  1988-01-04  to  2016-12-30  :\n"
          ]
        },
        {
          "output_type": "display_data",
          "data": {
            "text/plain": [
              "<Figure size 720x504 with 1 Axes>"
            ],
            "image/png": "[encoded data removed]"
          },
          "metadata": {
            "needs_background": "light"
          }
        }
      ]
    },
    {
      "cell_type": "code",
      "source": [
        "data_raw.index"
      ],
      "metadata": {
        "colab": {
          "base_uri": "https://localhost:8080/"
        },
        "id": "-HP2Pv_q18u-",
        "outputId": "761d9fda-e3b2-4635-fd43-ab436e74a626"
      },
      "execution_count": null,
      "outputs": [
        {
          "output_type": "execute_result",
          "data": {
            "text/plain": [
              "Index(['1988-01-04', '1988-01-05', '1988-01-06', '1988-01-07', '1988-01-08',\n",
              "       '1988-01-11', '1988-01-12', '1988-01-13', '1988-01-14', '1988-01-15',\n",
              "       ...\n",
              "       '2016-12-16', '2016-12-19', '2016-12-20', '2016-12-21', '2016-12-22',\n",
              "       '2016-12-23', '2016-12-27', '2016-12-28', '2016-12-29', '2016-12-30'],\n",
              "      dtype='object', name='Date', length=7310)"
            ]
          },
          "metadata": {},
          "execution_count": 64
        }
      ]
    },
    {
      "cell_type": "code",
      "source": [
        "def create_train_test_set(data):\n",
        "    features = data.drop(columns=['close'], axis=1)\n",
        "    target = data['close']\n",
        "    data_len = data.shape[0]\n",
        "    train_split = int(data_len * 0.88)\n",
        "    val_split = train_split + int(data_len * 0.1)\n",
        "    X_train, X_val, X_test, X_tot = features[:train_split], features[train_split:val_split], features[val_split:], features[:]\n",
        "    Y_train, Y_val, Y_test, Y_tot = target[:train_split], target[train_split:val_split], target[val_split:], features[:]\n",
        "    return X_train, X_val, X_test, X_tot, Y_train, Y_val, Y_test, Y_tot"
      ],
      "metadata": {
        "id": "edcA2hjrrrM4"
      },
      "execution_count": null,
      "outputs": []
    },
    {
      "cell_type": "code",
      "source": [
        "X_train, X_val, X_test, X_tot, Y_train, Y_val, Y_test, Y_tot = create_train_test_set(data)"
      ],
      "metadata": {
        "id": "YET1fEl_sJxn"
      },
      "execution_count": null,
      "outputs": []
    },
    {
      "cell_type": "code",
      "source": [
        "from sklearn.linear_model import LinearRegression\n",
        "\n",
        "lr = LinearRegression()\n",
        "lr.fit(X_train, Y_train)"
      ],
      "metadata": {
        "colab": {
          "base_uri": "https://localhost:8080/"
        },
        "id": "A1yproeeqC9w",
        "outputId": "efbfdc4c-7780-47b0-de57-af4378ff0a64"
      },
      "execution_count": null,
      "outputs": [
        {
          "output_type": "execute_result",
          "data": {
            "text/plain": [
              "LinearRegression()"
            ]
          },
          "metadata": {},
          "execution_count": 45
        }
      ]
    },
    {
      "cell_type": "code",
      "source": [
        "Y_train_pred = lr.predict(X_train)\n",
        "Y_val_pred = lr.predict(X_val)\n",
        "Y_test_pred = lr.predict(X_test)"
      ],
      "metadata": {
        "id": "929QrXZ7qNyC"
      },
      "execution_count": null,
      "outputs": []
    },
    {
      "cell_type": "code",
      "source": [
        "print(\"Using Linear Regression : \\n\")\n",
        "\n",
        "print(\"Actual and Predicted Stock Price from \",Y_val.index[0],\" to \",Y_val.index[-1],\" :\")\n",
        "data_pred = pd.DataFrame(Y_val.values, columns=['Actual'], index=Y_val.index)\n",
        "data_pred['Predicted'] = Y_val_pred\n",
        "data_pred = data_pred.reset_index()\n",
        "data_pred.loc[:, 'Date'] = pd.to_datetime(data_pred['Date'],format='%Y-%m-%d')\n",
        "data_pred"
      ],
      "metadata": {
        "colab": {
          "base_uri": "https://localhost:8080/",
          "height": 476
        },
        "id": "bNKK7yp8rpPo",
        "outputId": "cda0d349-a73d-4a1b-f411-7c22b4f61ad3"
      },
      "execution_count": null,
      "outputs": [
        {
          "output_type": "stream",
          "name": "stdout",
          "text": [
            "Using Linear Regression : \n",
            "\n",
            "Actual and Predicted Stock Price from  2013-08-22  to  2016-06-09  :\n"
          ]
        },
        {
          "output_type": "execute_result",
          "data": {
            "text/plain": [
              "          Date        Actual     Predicted\n",
              "0   2013-08-22  14963.740234  14929.998540\n",
              "1   2013-08-23  15010.509766  15020.676477\n",
              "2   2013-08-26  14946.459961  15008.932166\n",
              "3   2013-08-27  14776.129883  14933.590227\n",
              "4   2013-08-28  14824.509766  14773.639160\n",
              "..         ...           ...           ...\n",
              "700 2016-06-03  17807.060547  17718.901858\n",
              "701 2016-06-06  17920.330078  17832.355207\n",
              "702 2016-06-07  17938.279297  17946.254878\n",
              "703 2016-06-08  18005.050781  17929.444243\n",
              "704 2016-06-09  17985.189453  17914.674480\n",
              "\n",
              "[705 rows x 3 columns]"
            ],
            "text/html": [
              "\n",
              "  <div id=\"df-ea80f4d4-fb9a-43b5-8327-09f50ae7146c\">\n",
              "    <div class=\"colab-df-container\">\n",
              "      <div>\n",
              "<style scoped>\n",
              "    .dataframe tbody tr th:only-of-type {\n",
              "        vertical-align: middle;\n",
              "    }\n",
              "\n",
              "    .dataframe tbody tr th {\n",
              "        vertical-align: top;\n",
              "    }\n",
              "\n",
              "    .dataframe thead th {\n",
              "        text-align: right;\n",
              "    }\n",
              "</style>\n",
              "<table border=\"1\" class=\"dataframe\">\n",
              "  <thead>\n",
              "    <tr style=\"text-align: right;\">\n",
              "      <th></th>\n",
              "      <th>Date</th>\n",
              "      <th>Actual</th>\n",
              "      <th>Predicted</th>\n",
              "    </tr>\n",
              "  </thead>\n",
              "  <tbody>\n",
              "    <tr>\n",
              "      <th>0</th>\n",
              "      <td>2013-08-22</td>\n",
              "      <td>14963.740234</td>\n",
              "      <td>14929.998540</td>\n",
              "    </tr>\n",
              "    <tr>\n",
              "      <th>1</th>\n",
              "      <td>2013-08-23</td>\n",
              "      <td>15010.509766</td>\n",
              "      <td>15020.676477</td>\n",
              "    </tr>\n",
              "    <tr>\n",
              "      <th>2</th>\n",
              "      <td>2013-08-26</td>\n",
              "      <td>14946.459961</td>\n",
              "      <td>15008.932166</td>\n",
              "    </tr>\n",
              "    <tr>\n",
              "      <th>3</th>\n",
              "      <td>2013-08-27</td>\n",
              "      <td>14776.129883</td>\n",
              "      <td>14933.590227</td>\n",
              "    </tr>\n",
              "    <tr>\n",
              "      <th>4</th>\n",
              "      <td>2013-08-28</td>\n",
              "      <td>14824.509766</td>\n",
              "      <td>14773.639160</td>\n",
              "    </tr>\n",
              "    <tr>\n",
              "      <th>...</th>\n",
              "      <td>...</td>\n",
              "      <td>...</td>\n",
              "      <td>...</td>\n",
              "    </tr>\n",
              "    <tr>\n",
              "      <th>700</th>\n",
              "      <td>2016-06-03</td>\n",
              "      <td>17807.060547</td>\n",
              "      <td>17718.901858</td>\n",
              "    </tr>\n",
              "    <tr>\n",
              "      <th>701</th>\n",
              "      <td>2016-06-06</td>\n",
              "      <td>17920.330078</td>\n",
              "      <td>17832.355207</td>\n",
              "    </tr>\n",
              "    <tr>\n",
              "      <th>702</th>\n",
              "      <td>2016-06-07</td>\n",
              "      <td>17938.279297</td>\n",
              "      <td>17946.254878</td>\n",
              "    </tr>\n",
              "    <tr>\n",
              "      <th>703</th>\n",
              "      <td>2016-06-08</td>\n",
              "      <td>18005.050781</td>\n",
              "      <td>17929.444243</td>\n",
              "    </tr>\n",
              "    <tr>\n",
              "      <th>704</th>\n",
              "      <td>2016-06-09</td>\n",
              "      <td>17985.189453</td>\n",
              "      <td>17914.674480</td>\n",
              "    </tr>\n",
              "  </tbody>\n",
              "</table>\n",
              "<p>705 rows × 3 columns</p>\n",
              "</div>\n",
              "      <button class=\"colab-df-convert\" onclick=\"convertToInteractive('df-ea80f4d4-fb9a-43b5-8327-09f50ae7146c')\"\n",
              "              title=\"Convert this dataframe to an interactive table.\"\n",
              "              style=\"display:none;\">\n",
              "        \n",
              "  <svg xmlns=\"http://www.w3.org/2000/svg\" height=\"24px\"viewBox=\"0 0 24 24\"\n",
              "       width=\"24px\">\n",
              "    <path d=\"M0 0h24v24H0V0z\" fill=\"none\"/>\n",
              "    <path d=\"M18.56 5.44l.94 2.06.94-2.06 2.06-.94-2.06-.94-.94-2.06-.94 2.06-2.06.94zm-11 1L8.5 8.5l.94-2.06 2.06-.94-2.06-.94L8.5 2.5l-.94 2.06-2.06.94zm10 10l.94 2.06.94-2.06 2.06-.94-2.06-.94-.94-2.06-.94 2.06-2.06.94z\"/><path d=\"M17.41 7.96l-1.37-1.37c-.4-.4-.92-.59-1.43-.59-.52 0-1.04.2-1.43.59L10.3 9.45l-7.72 7.72c-.78.78-.78 2.05 0 2.83L4 21.41c.39.39.9.59 1.41.59.51 0 1.02-.2 1.41-.59l7.78-7.78 2.81-2.81c.8-.78.8-2.07 0-2.86zM5.41 20L4 18.59l7.72-7.72 1.47 1.35L5.41 20z\"/>\n",
              "  </svg>\n",
              "      </button>\n",
              "      \n",
              "  <style>\n",
              "    .colab-df-container {\n",
              "      display:flex;\n",
              "      flex-wrap:wrap;\n",
              "      gap: 12px;\n",
              "    }\n",
              "\n",
              "    .colab-df-convert {\n",
              "      background-color: #E8F0FE;\n",
              "      border: none;\n",
              "      border-radius: 50%;\n",
              "      cursor: pointer;\n",
              "      display: none;\n",
              "      fill: #1967D2;\n",
              "      height: 32px;\n",
              "      padding: 0 0 0 0;\n",
              "      width: 32px;\n",
              "    }\n",
              "\n",
              "    .colab-df-convert:hover {\n",
              "      background-color: #E2EBFA;\n",
              "      box-shadow: 0px 1px 2px rgba(60, 64, 67, 0.3), 0px 1px 3px 1px rgba(60, 64, 67, 0.15);\n",
              "      fill: #174EA6;\n",
              "    }\n",
              "\n",
              "    [theme=dark] .colab-df-convert {\n",
              "      background-color: #3B4455;\n",
              "      fill: #D2E3FC;\n",
              "    }\n",
              "\n",
              "    [theme=dark] .colab-df-convert:hover {\n",
              "      background-color: #434B5C;\n",
              "      box-shadow: 0px 1px 3px 1px rgba(0, 0, 0, 0.15);\n",
              "      filter: drop-shadow(0px 1px 2px rgba(0, 0, 0, 0.3));\n",
              "      fill: #FFFFFF;\n",
              "    }\n",
              "  </style>\n",
              "\n",
              "      <script>\n",
              "        const buttonEl =\n",
              "          document.querySelector('#df-ea80f4d4-fb9a-43b5-8327-09f50ae7146c button.colab-df-convert');\n",
              "        buttonEl.style.display =\n",
              "          google.colab.kernel.accessAllowed ? 'block' : 'none';\n",
              "\n",
              "        async function convertToInteractive(key) {\n",
              "          const element = document.querySelector('#df-ea80f4d4-fb9a-43b5-8327-09f50ae7146c');\n",
              "          const dataTable =\n",
              "            await google.colab.kernel.invokeFunction('convertToInteractive',\n",
              "                                                     [key], {});\n",
              "          if (!dataTable) return;\n",
              "\n",
              "          const docLinkHtml = 'Like what you see? Visit the ' +\n",
              "            '<a target=\"_blank\" href=https://colab.research.google.com/notebooks/data_table.ipynb>data table notebook</a>'\n",
              "            + ' to learn more about interactive tables.';\n",
              "          element.innerHTML = '';\n",
              "          dataTable['output_type'] = 'display_data';\n",
              "          await google.colab.output.renderOutput(dataTable, element);\n",
              "          const docLink = document.createElement('div');\n",
              "          docLink.innerHTML = docLinkHtml;\n",
              "          element.appendChild(docLink);\n",
              "        }\n",
              "      </script>\n",
              "    </div>\n",
              "  </div>\n",
              "  "
            ]
          },
          "metadata": {},
          "execution_count": 66
        }
      ]
    },
    {
      "cell_type": "code",
      "source": [
        "print(\"Actual Stock Price vs Predicted Stock Price from \",Y_val.index[0],\" to \",Y_val.index[-1],\" on a Time Series Plot:\")\n",
        "data_pred[['Actual', 'Predicted']].plot()"
      ],
      "metadata": {
        "colab": {
          "base_uri": "https://localhost:8080/",
          "height": 304
        },
        "id": "A2xMyckRtwpz",
        "outputId": "994b1fa5-199a-4a39-cea0-9814d3f64e06"
      },
      "execution_count": null,
      "outputs": [
        {
          "output_type": "stream",
          "name": "stdout",
          "text": [
            "Actual Stock Price vs Predicted Stock Price from  2013-08-22  to  2016-06-09  on a Time Series Plot:\n"
          ]
        },
        {
          "output_type": "execute_result",
          "data": {
            "text/plain": [
              "<matplotlib.axes._subplots.AxesSubplot at 0x7f3017461cd0>"
            ]
          },
          "metadata": {},
          "execution_count": 63
        },
        {
          "output_type": "display_data",
          "data": {
            "text/plain": [
              "<Figure size 432x288 with 1 Axes>"
            ],
            "image/png": "[encoded data removed]"
          },
          "metadata": {
            "needs_background": "light"
          }
        }
      ]
    },
    {
      "cell_type": "code",
      "source": [
        "print('MSE:', round(metrics.mean_squared_error(Y_val,Y_val_pred), 2))\n",
        "print(\"MAE: \",round(metrics.mean_absolute_error(Y_val,Y_val_pred),2))\n",
        "print(\"R^2: \",round(metrics.r2_score(Y_val,Y_val_pred),2))"
      ],
      "metadata": {
        "colab": {
          "base_uri": "https://localhost:8080/"
        },
        "id": "eaKCf0bhC_B6",
        "outputId": "109296de-043f-428f-f350-ccac07ff28bb"
      },
      "execution_count": null,
      "outputs": [
        {
          "output_type": "stream",
          "name": "stdout",
          "text": [
            "MSE: 17595.33\n",
            "MAE:  98.65\n",
            "R^2:  0.98\n"
          ]
        }
      ]
    },
    {
      "cell_type": "code",
      "source": [
        "param_grid={\n",
        "    'max_depth':[5,10,15],\n",
        "    'min_samples_split':[5,10],\n",
        "    'max_features':['auto','sqrt'],\n",
        "    'min_samples_leaf':[3,4]\n",
        "}\n",
        "\n",
        "rf=RandomForestRegressor(n_estimators=100, n_jobs=-1)\n",
        "\n",
        "grid_search= GridSearchCV(rf, param_grid, cv=5, scoring=\"r2\", n_jobs=-1)\n",
        "grid_search.fit(X_scaled_train, y_train)\n"
      ],
      "metadata": {
        "id": "ZpeSYmMeliV2"
      },
      "execution_count": null,
      "outputs": []
    },
    {
      "cell_type": "code",
      "source": [
        "rf_best= grid_search.best_estimator_\n",
        "\n",
        "predictions_rf= rf_best.predict(X_scaled_test)"
      ],
      "metadata": {
        "id": "Tfy2iIlP4Mep"
      },
      "execution_count": null,
      "outputs": []
    },
    {
      "cell_type": "code",
      "source": [
        "print(\"Stock Price Prediction Plot for the same period of time using Random Forest Regression:\")\n",
        "X_train, X_val, X_test, X_tot, Y_train, Y_val, Y_test, Y_tot = create_train_test_set(data)\n",
        "rf.fit(X_val,Y_val)\n",
        "Y_pred = rf.predict(X_val)\n",
        "Y_pred_series = pd.Series(Y_pred, index=Y_val.index)\n",
        "Y_pred_series.plot()\n",
        "plt.show()\n"
      ],
      "metadata": {
        "colab": {
          "base_uri": "https://localhost:8080/",
          "height": 296
        },
        "id": "Rno4-qs07oFm",
        "outputId": "249d8775-3759-4688-e593-0cabcfdda94f"
      },
      "execution_count": null,
      "outputs": [
        {
          "output_type": "stream",
          "name": "stdout",
          "text": [
            "Stock Price Prediction Plot for the same period of time using Random Forest Regression:\n"
          ]
        },
        {
          "output_type": "display_data",
          "data": {
            "text/plain": [
              "<Figure size 432x288 with 1 Axes>"
            ],
            "image/png": "[encoded data removed]"
          },
          "metadata": {
            "needs_background": "light"
          }
        }
      ]
    },
    {
      "cell_type": "code",
      "source": [
        "print(\"Using RF Regression : \\n\")\n",
        "\n",
        "print(\"Actual and Predicted Stock Price from \",Y_val.index[0],\" to \",Y_val.index[-1],\" :\")\n",
        "data_predict = pd.DataFrame(Y_val.values, columns=['Actual'], index=Y_val.index)\n",
        "data_predict['Predicted'] = Y_pred\n",
        "data_predict = data_predict.reset_index()\n",
        "data_predict.loc[:, 'Date'] = pd.to_datetime(data_predict['Date'],format='%Y-%m-%d')\n",
        "data_predict"
      ],
      "metadata": {
        "colab": {
          "base_uri": "https://localhost:8080/",
          "height": 476
        },
        "id": "I5i8uWepCQBS",
        "outputId": "2d2e6c05-c935-4b65-9a8f-77a2e4f76eb0"
      },
      "execution_count": null,
      "outputs": [
        {
          "output_type": "stream",
          "name": "stdout",
          "text": [
            "Using RF Regression : \n",
            "\n",
            "Actual and Predicted Stock Price from  2013-08-22  to  2016-06-09  :\n"
          ]
        },
        {
          "output_type": "execute_result",
          "data": {
            "text/plain": [
              "          Date        Actual     Predicted\n",
              "0   2013-08-22  14963.740234  14928.228730\n",
              "1   2013-08-23  15010.509766  14977.615157\n",
              "2   2013-08-26  14946.459961  14934.168965\n",
              "3   2013-08-27  14776.129883  14825.676856\n",
              "4   2013-08-28  14824.509766  14848.851006\n",
              "..         ...           ...           ...\n",
              "700 2016-06-03  17807.060547  17816.471738\n",
              "701 2016-06-06  17920.330078  17875.747617\n",
              "702 2016-06-07  17938.279297  17917.928340\n",
              "703 2016-06-08  18005.050781  17979.251367\n",
              "704 2016-06-09  17985.189453  18000.181387\n",
              "\n",
              "[705 rows x 3 columns]"
            ],
            "text/html": [
              "\n",
              "  <div id=\"df-1779b744-1140-4fa7-b84a-bde937805582\">\n",
              "    <div class=\"colab-df-container\">\n",
              "      <div>\n",
              "<style scoped>\n",
              "    .dataframe tbody tr th:only-of-type {\n",
              "        vertical-align: middle;\n",
              "    }\n",
              "\n",
              "    .dataframe tbody tr th {\n",
              "        vertical-align: top;\n",
              "    }\n",
              "\n",
              "    .dataframe thead th {\n",
              "        text-align: right;\n",
              "    }\n",
              "</style>\n",
              "<table border=\"1\" class=\"dataframe\">\n",
              "  <thead>\n",
              "    <tr style=\"text-align: right;\">\n",
              "      <th></th>\n",
              "      <th>Date</th>\n",
              "      <th>Actual</th>\n",
              "      <th>Predicted</th>\n",
              "    </tr>\n",
              "  </thead>\n",
              "  <tbody>\n",
              "    <tr>\n",
              "      <th>0</th>\n",
              "      <td>2013-08-22</td>\n",
              "      <td>14963.740234</td>\n",
              "      <td>14928.228730</td>\n",
              "    </tr>\n",
              "    <tr>\n",
              "      <th>1</th>\n",
              "      <td>2013-08-23</td>\n",
              "      <td>15010.509766</td>\n",
              "      <td>14977.615157</td>\n",
              "    </tr>\n",
              "    <tr>\n",
              "      <th>2</th>\n",
              "      <td>2013-08-26</td>\n",
              "      <td>14946.459961</td>\n",
              "      <td>14934.168965</td>\n",
              "    </tr>\n",
              "    <tr>\n",
              "      <th>3</th>\n",
              "      <td>2013-08-27</td>\n",
              "      <td>14776.129883</td>\n",
              "      <td>14825.676856</td>\n",
              "    </tr>\n",
              "    <tr>\n",
              "      <th>4</th>\n",
              "      <td>2013-08-28</td>\n",
              "      <td>14824.509766</td>\n",
              "      <td>14848.851006</td>\n",
              "    </tr>\n",
              "    <tr>\n",
              "      <th>...</th>\n",
              "      <td>...</td>\n",
              "      <td>...</td>\n",
              "      <td>...</td>\n",
              "    </tr>\n",
              "    <tr>\n",
              "      <th>700</th>\n",
              "      <td>2016-06-03</td>\n",
              "      <td>17807.060547</td>\n",
              "      <td>17816.471738</td>\n",
              "    </tr>\n",
              "    <tr>\n",
              "      <th>701</th>\n",
              "      <td>2016-06-06</td>\n",
              "      <td>17920.330078</td>\n",
              "      <td>17875.747617</td>\n",
              "    </tr>\n",
              "    <tr>\n",
              "      <th>702</th>\n",
              "      <td>2016-06-07</td>\n",
              "      <td>17938.279297</td>\n",
              "      <td>17917.928340</td>\n",
              "    </tr>\n",
              "    <tr>\n",
              "      <th>703</th>\n",
              "      <td>2016-06-08</td>\n",
              "      <td>18005.050781</td>\n",
              "      <td>17979.251367</td>\n",
              "    </tr>\n",
              "    <tr>\n",
              "      <th>704</th>\n",
              "      <td>2016-06-09</td>\n",
              "      <td>17985.189453</td>\n",
              "      <td>18000.181387</td>\n",
              "    </tr>\n",
              "  </tbody>\n",
              "</table>\n",
              "<p>705 rows × 3 columns</p>\n",
              "</div>\n",
              "      <button class=\"colab-df-convert\" onclick=\"convertToInteractive('df-1779b744-1140-4fa7-b84a-bde937805582')\"\n",
              "              title=\"Convert this dataframe to an interactive table.\"\n",
              "              style=\"display:none;\">\n",
              "        \n",
              "  <svg xmlns=\"http://www.w3.org/2000/svg\" height=\"24px\"viewBox=\"0 0 24 24\"\n",
              "       width=\"24px\">\n",
              "    <path d=\"M0 0h24v24H0V0z\" fill=\"none\"/>\n",
              "    <path d=\"M18.56 5.44l.94 2.06.94-2.06 2.06-.94-2.06-.94-.94-2.06-.94 2.06-2.06.94zm-11 1L8.5 8.5l.94-2.06 2.06-.94-2.06-.94L8.5 2.5l-.94 2.06-2.06.94zm10 10l.94 2.06.94-2.06 2.06-.94-2.06-.94-.94-2.06-.94 2.06-2.06.94z\"/><path d=\"M17.41 7.96l-1.37-1.37c-.4-.4-.92-.59-1.43-.59-.52 0-1.04.2-1.43.59L10.3 9.45l-7.72 7.72c-.78.78-.78 2.05 0 2.83L4 21.41c.39.39.9.59 1.41.59.51 0 1.02-.2 1.41-.59l7.78-7.78 2.81-2.81c.8-.78.8-2.07 0-2.86zM5.41 20L4 18.59l7.72-7.72 1.47 1.35L5.41 20z\"/>\n",
              "  </svg>\n",
              "      </button>\n",
              "      \n",
              "  <style>\n",
              "    .colab-df-container {\n",
              "      display:flex;\n",
              "      flex-wrap:wrap;\n",
              "      gap: 12px;\n",
              "    }\n",
              "\n",
              "    .colab-df-convert {\n",
              "      background-color: #E8F0FE;\n",
              "      border: none;\n",
              "      border-radius: 50%;\n",
              "      cursor: pointer;\n",
              "      display: none;\n",
              "      fill: #1967D2;\n",
              "      height: 32px;\n",
              "      padding: 0 0 0 0;\n",
              "      width: 32px;\n",
              "    }\n",
              "\n",
              "    .colab-df-convert:hover {\n",
              "      background-color: #E2EBFA;\n",
              "      box-shadow: 0px 1px 2px rgba(60, 64, 67, 0.3), 0px 1px 3px 1px rgba(60, 64, 67, 0.15);\n",
              "      fill: #174EA6;\n",
              "    }\n",
              "\n",
              "    [theme=dark] .colab-df-convert {\n",
              "      background-color: #3B4455;\n",
              "      fill: #D2E3FC;\n",
              "    }\n",
              "\n",
              "    [theme=dark] .colab-df-convert:hover {\n",
              "      background-color: #434B5C;\n",
              "      box-shadow: 0px 1px 3px 1px rgba(0, 0, 0, 0.15);\n",
              "      filter: drop-shadow(0px 1px 2px rgba(0, 0, 0, 0.3));\n",
              "      fill: #FFFFFF;\n",
              "    }\n",
              "  </style>\n",
              "\n",
              "      <script>\n",
              "        const buttonEl =\n",
              "          document.querySelector('#df-1779b744-1140-4fa7-b84a-bde937805582 button.colab-df-convert');\n",
              "        buttonEl.style.display =\n",
              "          google.colab.kernel.accessAllowed ? 'block' : 'none';\n",
              "\n",
              "        async function convertToInteractive(key) {\n",
              "          const element = document.querySelector('#df-1779b744-1140-4fa7-b84a-bde937805582');\n",
              "          const dataTable =\n",
              "            await google.colab.kernel.invokeFunction('convertToInteractive',\n",
              "                                                     [key], {});\n",
              "          if (!dataTable) return;\n",
              "\n",
              "          const docLinkHtml = 'Like what you see? Visit the ' +\n",
              "            '<a target=\"_blank\" href=https://colab.research.google.com/notebooks/data_table.ipynb>data table notebook</a>'\n",
              "            + ' to learn more about interactive tables.';\n",
              "          element.innerHTML = '';\n",
              "          dataTable['output_type'] = 'display_data';\n",
              "          await google.colab.output.renderOutput(dataTable, element);\n",
              "          const docLink = document.createElement('div');\n",
              "          docLink.innerHTML = docLinkHtml;\n",
              "          element.appendChild(docLink);\n",
              "        }\n",
              "      </script>\n",
              "    </div>\n",
              "  </div>\n",
              "  "
            ]
          },
          "metadata": {},
          "execution_count": 100
        }
      ]
    },
    {
      "cell_type": "code",
      "source": [
        "print(\"Actual Stock Price vs Predicted Stock Price from \",Y_val.index[0],\" to \",Y_val.index[-1],\" on a Time Series Plot:\")\n",
        "data_pred[['Actual', 'Predicted']].plot()"
      ],
      "metadata": {
        "colab": {
          "base_uri": "https://localhost:8080/",
          "height": 304
        },
        "id": "3SXhc7hNECJ0",
        "outputId": "d0b0b64a-f7ae-4de0-d9f9-1fdac65b6b1c"
      },
      "execution_count": null,
      "outputs": [
        {
          "output_type": "stream",
          "name": "stdout",
          "text": [
            "Actual Stock Price vs Predicted Stock Price from  2013-08-22  to  2016-06-09  on a Time Series Plot:\n"
          ]
        },
        {
          "output_type": "execute_result",
          "data": {
            "text/plain": [
              "<matplotlib.axes._subplots.AxesSubplot at 0x7f30139f11d0>"
            ]
          },
          "metadata": {},
          "execution_count": 103
        },
        {
          "output_type": "display_data",
          "data": {
            "text/plain": [
              "<Figure size 432x288 with 1 Axes>"
            ],
            "image/png": "[encoded data removed]"
          },
          "metadata": {
            "needs_background": "light"
          }
        }
      ]
    },
    {
      "cell_type": "code",
      "source": [
        "print('MSE:', round(metrics.mean_squared_error(Y_val,Y_pred), 2))\n",
        "print(\"MAE: \",round(metrics.mean_absolute_error(Y_val,Y_pred),2))\n",
        "print(\"R^2: \",round(metrics.r2_score(Y_val,Y_pred),2))"
      ],
      "metadata": {
        "colab": {
          "base_uri": "https://localhost:8080/"
        },
        "id": "HZZMrPbACrxI",
        "outputId": "8105a0a7-b252-4253-e0be-25a6c32fef9b"
      },
      "execution_count": null,
      "outputs": [
        {
          "output_type": "stream",
          "name": "stdout",
          "text": [
            "MSE: 2806.18\n",
            "MAE:  39.38\n",
            "R^2:  1.0\n"
          ]
        }
      ]
    }
  ]
}